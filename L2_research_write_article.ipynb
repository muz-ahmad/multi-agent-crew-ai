{
 "cells": [
  {
   "cell_type": "markdown",
   "metadata": {},
   "source": [
    "You can download the `requirements.txt` for this course from the workspace of this lab. `File --> Open...`"
   ]
  },
  {
   "cell_type": "markdown",
   "metadata": {},
   "source": [
    "# L2: Create Agents to Research and Write an Article\n",
    "\n",
    "In this lesson, you will be introduced to the foundational concepts of multi-agent systems and get an overview of the crewAI framework."
   ]
  },
  {
   "cell_type": "markdown",
   "metadata": {},
   "source": [
    "The libraries are already installed in the classroom. If you're running this notebook on your own machine, you can install the following:\n",
    "```Python\n",
    "!pip install crewai==0.28.8 crewai_tools==0.1.6 langchain_community==0.0.29\n",
    "```"
   ]
  },
  {
   "cell_type": "code",
   "execution_count": 1,
   "metadata": {
    "height": 64
   },
   "outputs": [],
   "source": [
    "# Warning control\n",
    "import warnings\n",
    "warnings.filterwarnings('ignore')"
   ]
  },
  {
   "cell_type": "markdown",
   "metadata": {},
   "source": [
    "- Import from the crewAI libray."
   ]
  },
  {
   "cell_type": "code",
   "execution_count": 2,
   "metadata": {
    "height": 31
   },
   "outputs": [],
   "source": [
    "from crewai import Agent, Task, Crew"
   ]
  },
  {
   "cell_type": "markdown",
   "metadata": {},
   "source": [
    "- As a LLM for your agents, you'll be using OpenAI's `gpt-3.5-turbo`.\n",
    "\n",
    "**Optional Note:** crewAI also allow other popular models to be used as a LLM for your Agents. You can see some of the examples at the [bottom of the notebook](#1)."
   ]
  },
  {
   "cell_type": "code",
   "execution_count": 3,
   "metadata": {
    "height": 99
   },
   "outputs": [],
   "source": [
    "import os\n",
    "from utils import get_openai_api_key\n",
    "\n",
    "openai_api_key = get_openai_api_key()\n",
    "os.environ[\"OPENAI_MODEL_NAME\"] = 'gpt-3.5-turbo'"
   ]
  },
  {
   "cell_type": "markdown",
   "metadata": {},
   "source": [
    "## Creating Agents\n",
    "\n",
    "- Define your Agents, and provide them a `role`, `goal` and `backstory`.\n",
    "- It has been seen that LLMs perform better when they are role playing."
   ]
  },
  {
   "cell_type": "markdown",
   "metadata": {},
   "source": [
    "### Agent: Planner\n",
    "\n",
    "**Note**: The benefit of using _multiple strings_ :\n",
    "```Python\n",
    "varname = \"line 1 of text\"\n",
    "          \"line 2 of text\"\n",
    "```\n",
    "\n",
    "versus the _triple quote docstring_:\n",
    "```Python\n",
    "varname = \"\"\"line 1 of text\n",
    "             line 2 of text\n",
    "          \"\"\"\n",
    "```\n",
    "is that it can avoid adding those whitespaces and newline characters, making it better formatted to be passed to the LLM."
   ]
  },
  {
   "cell_type": "code",
   "execution_count": 4,
   "metadata": {
    "height": 251
   },
   "outputs": [],
   "source": [
    "planner = Agent(\n",
    "    role=\"Content Planner\",\n",
    "    goal=\"Plan engaging and factually accurate content on {topic}\",\n",
    "    backstory=\"You're working on planning a blog article \"\n",
    "              \"about the topic: {topic}.\"\n",
    "              \"You collect information that helps the \"\n",
    "              \"audience learn something \"\n",
    "              \"and make informed decisions. \"\n",
    "              \"Your work is the basis for \"\n",
    "              \"the Content Writer to write an article on this topic.\",\n",
    "    allow_delegation=False,\n",
    "\tverbose=True\n",
    ")"
   ]
  },
  {
   "cell_type": "markdown",
   "metadata": {},
   "source": [
    "### Agent: Writer"
   ]
  },
  {
   "cell_type": "code",
   "execution_count": 6,
   "metadata": {
    "height": 387
   },
   "outputs": [],
   "source": [
    "writer = Agent(\n",
    "    role=\"Content Writer\",\n",
    "    goal=\"Write insightful and factually accurate \"\n",
    "         \"opinion piece about the topic: {topic}\",\n",
    "    backstory=\"You're working on a writing \"\n",
    "              \"a new opinion piece about the topic: {topic}. \"\n",
    "              \"You base your writing on the work of \"\n",
    "              \"the Content Planner, who provides an outline \"\n",
    "              \"and relevant context about the topic. \"\n",
    "              \"You follow the main objectives and \"\n",
    "              \"direction of the outline, \"\n",
    "              \"as provide by the Content Planner. \"\n",
    "              \"You also provide objective and impartial insights \"\n",
    "              \"and back them up with information \"\n",
    "              \"provide by the Content Planner. \"\n",
    "              \"You acknowledge in your opinion piece \"\n",
    "              \"when your statements are opinions \"\n",
    "              \"as opposed to objective statements.\",\n",
    "    allow_delegation=False,\n",
    "    verbose=True\n",
    ")"
   ]
  },
  {
   "cell_type": "markdown",
   "metadata": {},
   "source": [
    "### Agent: Editor"
   ]
  },
  {
   "cell_type": "code",
   "execution_count": 7,
   "metadata": {
    "height": 285
   },
   "outputs": [],
   "source": [
    "editor = Agent(\n",
    "    role=\"Editor\",\n",
    "    goal=\"Edit a given blog post to align with \"\n",
    "         \"the writing style of the organization. \",\n",
    "    backstory=\"You are an editor who receives a blog post \"\n",
    "              \"from the Content Writer. \"\n",
    "              \"Your goal is to review the blog post \"\n",
    "              \"to ensure that it follows journalistic best practices,\"\n",
    "              \"provides balanced viewpoints \"\n",
    "              \"when providing opinions or assertions, \"\n",
    "              \"and also avoids major controversial topics \"\n",
    "              \"or opinions when possible.\",\n",
    "    allow_delegation=False,\n",
    "    verbose=True\n",
    ")"
   ]
  },
  {
   "cell_type": "markdown",
   "metadata": {},
   "source": [
    "## Creating Tasks\n",
    "\n",
    "- Define your Tasks, and provide them a `description`, `expected_output` and `agent`."
   ]
  },
  {
   "cell_type": "markdown",
   "metadata": {},
   "source": [
    "### Task: Plan"
   ]
  },
  {
   "cell_type": "code",
   "execution_count": 8,
   "metadata": {
    "height": 285
   },
   "outputs": [],
   "source": [
    "plan = Task(\n",
    "    description=(\n",
    "        \"1. Prioritize the latest trends, key players, \"\n",
    "            \"and noteworthy news on {topic}.\\n\"\n",
    "        \"2. Identify the target audience, considering \"\n",
    "            \"their interests and pain points.\\n\"\n",
    "        \"3. Develop a detailed content outline including \"\n",
    "            \"an introduction, key points, and a call to action.\\n\"\n",
    "        \"4. Include SEO keywords and relevant data or sources.\"\n",
    "    ),\n",
    "    expected_output=\"A comprehensive content plan document \"\n",
    "        \"with an outline, audience analysis, \"\n",
    "        \"SEO keywords, and resources.\",\n",
    "    agent=planner,\n",
    ")"
   ]
  },
  {
   "cell_type": "markdown",
   "metadata": {},
   "source": [
    "### Task: Write"
   ]
  },
  {
   "cell_type": "code",
   "execution_count": 9,
   "metadata": {
    "height": 336
   },
   "outputs": [],
   "source": [
    "write = Task(\n",
    "    description=(\n",
    "        \"1. Use the content plan to craft a compelling \"\n",
    "            \"blog post on {topic}.\\n\"\n",
    "        \"2. Incorporate SEO keywords naturally.\\n\"\n",
    "\t\t\"3. Sections/Subtitles are properly named \"\n",
    "            \"in an engaging manner.\\n\"\n",
    "        \"4. Ensure the post is structured with an \"\n",
    "            \"engaging introduction, insightful body, \"\n",
    "            \"and a summarizing conclusion.\\n\"\n",
    "        \"5. Proofread for grammatical errors and \"\n",
    "            \"alignment with the brand's voice.\\n\"\n",
    "    ),\n",
    "    expected_output=\"A well-written blog post \"\n",
    "        \"in markdown format, ready for publication, \"\n",
    "        \"each section should have 2 or 3 paragraphs.\",\n",
    "    agent=writer,\n",
    ")"
   ]
  },
  {
   "cell_type": "markdown",
   "metadata": {},
   "source": [
    "### Task: Edit"
   ]
  },
  {
   "cell_type": "code",
   "execution_count": 10,
   "metadata": {
    "height": 183
   },
   "outputs": [],
   "source": [
    "edit = Task(\n",
    "    description=(\"Proofread the given blog post for \"\n",
    "                 \"grammatical errors and \"\n",
    "                 \"alignment with the brand's voice.\"),\n",
    "    expected_output=\"A well-written blog post in markdown format, \"\n",
    "                    \"ready for publication, \"\n",
    "                    \"each section should have 2 or 3 paragraphs.\",\n",
    "    agent=editor\n",
    ")"
   ]
  },
  {
   "cell_type": "markdown",
   "metadata": {},
   "source": [
    "## Creating the Crew\n",
    "\n",
    "- Create your crew of Agents\n",
    "- Pass the tasks to be performed by those agents.\n",
    "    - **Note**: *For this simple example*, the tasks will be performed sequentially (i.e they are dependent on each other), so the _order_ of the task in the list _matters_.\n",
    "- `verbose=2` allows you to see all the logs of the execution. "
   ]
  },
  {
   "cell_type": "code",
   "execution_count": 11,
   "metadata": {
    "height": 99
   },
   "outputs": [],
   "source": [
    "crew = Crew(\n",
    "    agents=[planner, writer, editor],\n",
    "    tasks=[plan, write, edit],\n",
    "    verbose=2\n",
    ")"
   ]
  },
  {
   "cell_type": "markdown",
   "metadata": {},
   "source": [
    "## Running the Crew"
   ]
  },
  {
   "cell_type": "markdown",
   "metadata": {},
   "source": [
    "**Note**: LLMs can provide different outputs for they same input, so what you get might be different than what you see in the video."
   ]
  },
  {
   "cell_type": "code",
   "execution_count": 12,
   "metadata": {
    "height": 47
   },
   "outputs": [
    {
     "name": "stdout",
     "output_type": "stream",
     "text": [
      "\u001b[1m\u001b[95m [DEBUG]: == Working Agent: Content Planner\u001b[00m\n",
      "\u001b[1m\u001b[95m [INFO]: == Starting Task: 1. Prioritize the latest trends, key players, and noteworthy news on Artificial Intelligence.\n",
      "2. Identify the target audience, considering their interests and pain points.\n",
      "3. Develop a detailed content outline including an introduction, key points, and a call to action.\n",
      "4. Include SEO keywords and relevant data or sources.\u001b[00m\n",
      "\n",
      "\n",
      "\u001b[1m> Entering new CrewAgentExecutor chain...\u001b[0m\n",
      "\u001b[32;1m\u001b[1;3mI now can give a great answer\n",
      "\n",
      "Final Answer: \n",
      "\n",
      "Content Plan on Artificial Intelligence\n",
      "\n",
      "1. Introduction\n",
      "- Brief overview of Artificial Intelligence (AI)\n",
      "- Importance of AI in various industries\n",
      "- Transition to discussing latest trends and key players in the AI field\n",
      "\n",
      "2. Latest Trends, Key Players, and Noteworthy News on Artificial Intelligence\n",
      "- Trends: \n",
      "  - Machine learning and deep learning advancements\n",
      "  - AI ethics and transparency\n",
      "  - AI in healthcare and finance sectors\n",
      "- Key Players:\n",
      "  - Google AI\n",
      "  - IBM Watson\n",
      "  - Amazon AI\n",
      "- Noteworthy News:\n",
      "  - Recent breakthroughs in AI research\n",
      "  - AI applications in combating climate change\n",
      "  - AI regulations and policies worldwide\n",
      "\n",
      "3. Target Audience Analysis\n",
      "- Target Audience: \n",
      "  - Business professionals\n",
      "  - Tech enthusiasts\n",
      "  - Students and researchers\n",
      "- Interests:\n",
      "  - Cutting-edge technology\n",
      "  - Business applications of AI\n",
      "  - Ethical considerations in AI development\n",
      "- Pain Points:\n",
      "  - Understanding complex AI concepts\n",
      "  - Navigating the evolving AI landscape\n",
      "  - Implementing AI solutions in their respective fields\n",
      "\n",
      "4. Content Outline\n",
      "- Introduction to AI and its significance\n",
      "- Latest trends in AI including machine learning and ethics\n",
      "- Key players in the AI industry and their contributions\n",
      "- Noteworthy news and developments in AI\n",
      "- Audience-specific insights and recommendations\n",
      "- Call to action for further exploration of AI resources\n",
      "\n",
      "5. SEO Keywords\n",
      "- Artificial Intelligence\n",
      "- AI trends\n",
      "- Machine learning advancements\n",
      "- Key players in AI\n",
      "- Noteworthy AI news\n",
      "- AI applications\n",
      "- AI ethics\n",
      "\n",
      "6. Resources\n",
      "- Forbes article on latest AI trends\n",
      "- TechCrunch report on key players in AI industry\n",
      "- Harvard Business Review publication on AI ethics\n",
      "- World Economic Forum analysis on AI applications in different sectors\n",
      "\n",
      "By following this comprehensive content plan, the blog article on Artificial Intelligence will provide valuable insights to the target audience, helping them stay informed and make educated decisions in the rapidly evolving AI landscape.\u001b[0m\n",
      "\n",
      "\u001b[1m> Finished chain.\u001b[0m\n",
      "\u001b[1m\u001b[92m [DEBUG]: == [Content Planner] Task output: Content Plan on Artificial Intelligence\n",
      "\n",
      "1. Introduction\n",
      "- Brief overview of Artificial Intelligence (AI)\n",
      "- Importance of AI in various industries\n",
      "- Transition to discussing latest trends and key players in the AI field\n",
      "\n",
      "2. Latest Trends, Key Players, and Noteworthy News on Artificial Intelligence\n",
      "- Trends: \n",
      "  - Machine learning and deep learning advancements\n",
      "  - AI ethics and transparency\n",
      "  - AI in healthcare and finance sectors\n",
      "- Key Players:\n",
      "  - Google AI\n",
      "  - IBM Watson\n",
      "  - Amazon AI\n",
      "- Noteworthy News:\n",
      "  - Recent breakthroughs in AI research\n",
      "  - AI applications in combating climate change\n",
      "  - AI regulations and policies worldwide\n",
      "\n",
      "3. Target Audience Analysis\n",
      "- Target Audience: \n",
      "  - Business professionals\n",
      "  - Tech enthusiasts\n",
      "  - Students and researchers\n",
      "- Interests:\n",
      "  - Cutting-edge technology\n",
      "  - Business applications of AI\n",
      "  - Ethical considerations in AI development\n",
      "- Pain Points:\n",
      "  - Understanding complex AI concepts\n",
      "  - Navigating the evolving AI landscape\n",
      "  - Implementing AI solutions in their respective fields\n",
      "\n",
      "4. Content Outline\n",
      "- Introduction to AI and its significance\n",
      "- Latest trends in AI including machine learning and ethics\n",
      "- Key players in the AI industry and their contributions\n",
      "- Noteworthy news and developments in AI\n",
      "- Audience-specific insights and recommendations\n",
      "- Call to action for further exploration of AI resources\n",
      "\n",
      "5. SEO Keywords\n",
      "- Artificial Intelligence\n",
      "- AI trends\n",
      "- Machine learning advancements\n",
      "- Key players in AI\n",
      "- Noteworthy AI news\n",
      "- AI applications\n",
      "- AI ethics\n",
      "\n",
      "6. Resources\n",
      "- Forbes article on latest AI trends\n",
      "- TechCrunch report on key players in AI industry\n",
      "- Harvard Business Review publication on AI ethics\n",
      "- World Economic Forum analysis on AI applications in different sectors\n",
      "\n",
      "By following this comprehensive content plan, the blog article on Artificial Intelligence will provide valuable insights to the target audience, helping them stay informed and make educated decisions in the rapidly evolving AI landscape.\n",
      "\n",
      "\u001b[00m\n",
      "\u001b[1m\u001b[95m [DEBUG]: == Working Agent: Content Writer\u001b[00m\n",
      "\u001b[1m\u001b[95m [INFO]: == Starting Task: 1. Use the content plan to craft a compelling blog post on Artificial Intelligence.\n",
      "2. Incorporate SEO keywords naturally.\n",
      "3. Sections/Subtitles are properly named in an engaging manner.\n",
      "4. Ensure the post is structured with an engaging introduction, insightful body, and a summarizing conclusion.\n",
      "5. Proofread for grammatical errors and alignment with the brand's voice.\n",
      "\u001b[00m\n",
      "\n",
      "\n",
      "\u001b[1m> Entering new CrewAgentExecutor chain...\u001b[0m\n",
      "\u001b[32;1m\u001b[1;3mI now can give a great answer\n",
      "\n",
      "Final Answer:\n",
      "\n",
      "# The Rise of Artificial Intelligence: Trends, Players, and News\n",
      "\n",
      "## Introduction\n",
      "Artificial Intelligence (AI) has become a driving force in numerous industries, revolutionizing the way we work, live, and interact with technology. From personalized recommendations on streaming platforms to cutting-edge medical diagnostics, AI is reshaping our world in ways we never imagined. As we delve into the latest trends and key players in the AI field, it's crucial to understand the significance of this technology and its impact on society.\n",
      "\n",
      "## Latest Trends, Key Players, and Noteworthy News on Artificial Intelligence\n",
      "In the realm of AI, machine learning and deep learning advancements have been at the forefront, enabling computers to learn from data and make decisions without explicit programming. This has paved the way for groundbreaking innovations in various sectors, including healthcare and finance. Moreover, the conversation around AI ethics and transparency has gained momentum, urging organizations to prioritize responsible AI development.\n",
      "\n",
      "Key players such as Google AI, IBM Watson, and Amazon AI have been instrumental in driving innovation and pushing the boundaries of AI capabilities. Their contributions have not only shaped the industry but also set the standard for ethical AI practices. Recent breakthroughs in AI research, along with applications in combating climate change, highlight the immense potential of AI to address global challenges and drive positive change. Additionally, the emergence of AI regulations and policies worldwide underscores the need for a cohesive approach to AI governance.\n",
      "\n",
      "## Target Audience Analysis\n",
      "For business professionals, tech enthusiasts, students, and researchers, AI represents a realm of endless possibilities and challenges. Understanding complex AI concepts, navigating the evolving AI landscape, and implementing AI solutions in their respective fields are key pain points for this diverse audience. By staying informed about the latest trends and developments in AI, individuals can make informed decisions and leverage AI technologies to their advantage.\n",
      "\n",
      "## Conclusion\n",
      "As we continue to witness the rapid evolution of AI, it is essential for individuals across various industries to stay abreast of the latest trends, key players, and noteworthy news in the AI landscape. By exploring the ethical considerations, practical applications, and regulatory frameworks surrounding AI, we can harness the full potential of this transformative technology. Let's embrace the power of AI and pave the way for a smarter, more sustainable future.\n",
      "\n",
      "---\n",
      "\n",
      "*SEO Keywords: Artificial Intelligence, AI trends, Machine learning advancements, Key players in AI, Noteworthy AI news, AI applications, AI ethics*\n",
      "\n",
      "*Resources: Forbes article on latest AI trends, TechCrunch report on key players in AI industry, Harvard Business Review publication on AI ethics, World Economic Forum analysis on AI applications in different sectors*\u001b[0m\n",
      "\n",
      "\u001b[1m> Finished chain.\u001b[0m\n",
      "\u001b[1m\u001b[92m [DEBUG]: == [Content Writer] Task output: # The Rise of Artificial Intelligence: Trends, Players, and News\n",
      "\n",
      "## Introduction\n",
      "Artificial Intelligence (AI) has become a driving force in numerous industries, revolutionizing the way we work, live, and interact with technology. From personalized recommendations on streaming platforms to cutting-edge medical diagnostics, AI is reshaping our world in ways we never imagined. As we delve into the latest trends and key players in the AI field, it's crucial to understand the significance of this technology and its impact on society.\n",
      "\n",
      "## Latest Trends, Key Players, and Noteworthy News on Artificial Intelligence\n",
      "In the realm of AI, machine learning and deep learning advancements have been at the forefront, enabling computers to learn from data and make decisions without explicit programming. This has paved the way for groundbreaking innovations in various sectors, including healthcare and finance. Moreover, the conversation around AI ethics and transparency has gained momentum, urging organizations to prioritize responsible AI development.\n",
      "\n",
      "Key players such as Google AI, IBM Watson, and Amazon AI have been instrumental in driving innovation and pushing the boundaries of AI capabilities. Their contributions have not only shaped the industry but also set the standard for ethical AI practices. Recent breakthroughs in AI research, along with applications in combating climate change, highlight the immense potential of AI to address global challenges and drive positive change. Additionally, the emergence of AI regulations and policies worldwide underscores the need for a cohesive approach to AI governance.\n",
      "\n",
      "## Target Audience Analysis\n",
      "For business professionals, tech enthusiasts, students, and researchers, AI represents a realm of endless possibilities and challenges. Understanding complex AI concepts, navigating the evolving AI landscape, and implementing AI solutions in their respective fields are key pain points for this diverse audience. By staying informed about the latest trends and developments in AI, individuals can make informed decisions and leverage AI technologies to their advantage.\n",
      "\n",
      "## Conclusion\n",
      "As we continue to witness the rapid evolution of AI, it is essential for individuals across various industries to stay abreast of the latest trends, key players, and noteworthy news in the AI landscape. By exploring the ethical considerations, practical applications, and regulatory frameworks surrounding AI, we can harness the full potential of this transformative technology. Let's embrace the power of AI and pave the way for a smarter, more sustainable future.\n",
      "\n",
      "---\n",
      "\n",
      "*SEO Keywords: Artificial Intelligence, AI trends, Machine learning advancements, Key players in AI, Noteworthy AI news, AI applications, AI ethics*\n",
      "\n",
      "*Resources: Forbes article on latest AI trends, TechCrunch report on key players in AI industry, Harvard Business Review publication on AI ethics, World Economic Forum analysis on AI applications in different sectors*\n",
      "\n",
      "\u001b[00m\n",
      "\u001b[1m\u001b[95m [DEBUG]: == Working Agent: Editor\u001b[00m\n",
      "\u001b[1m\u001b[95m [INFO]: == Starting Task: Proofread the given blog post for grammatical errors and alignment with the brand's voice.\u001b[00m\n",
      "\n",
      "\n",
      "\u001b[1m> Entering new CrewAgentExecutor chain...\u001b[0m\n"
     ]
    },
    {
     "name": "stdout",
     "output_type": "stream",
     "text": [
      "\u001b[32;1m\u001b[1;3mI now can give a great answer\n",
      "\n",
      "Final Answer:\n",
      "# The Rise of Artificial Intelligence: Trends, Players, and News\n",
      "\n",
      "## Introduction\n",
      "Artificial Intelligence (AI) has significantly impacted various industries, transforming the way we interact with technology and the world around us. From personalized recommendations on streaming platforms to advanced medical diagnostics, AI has revolutionized our daily lives in unprecedented ways. Exploring the latest trends and key players in the AI field is crucial to comprehending the importance of this technology and its implications on society.\n",
      "\n",
      "## Latest Trends, Key Players, and Noteworthy News on Artificial Intelligence\n",
      "In the realm of AI, advancements in machine learning and deep learning have been pivotal, allowing computers to learn from data and make decisions autonomously. This progress has led to groundbreaking innovations across sectors such as healthcare and finance. Additionally, there has been a growing focus on AI ethics and transparency, prompting organizations to prioritize responsible AI development.\n",
      "\n",
      "Prominent players like Google AI, IBM Watson, and Amazon AI have played a significant role in driving innovation and expanding the capabilities of AI. Their contributions have not only shaped the industry but have also established benchmarks for ethical AI practices. Recent breakthroughs in AI research, coupled with its applications in addressing global challenges like climate change, underscore the vast potential of AI to drive positive change. The emergence of AI regulations and policies worldwide highlights the importance of a unified approach to AI governance.\n",
      "\n",
      "## Target Audience Analysis\n",
      "For professionals in business, technology enthusiasts, students, and researchers, AI represents a realm of unlimited opportunities and complexities. Grasping intricate AI concepts, navigating the ever-evolving AI landscape, and implementing AI solutions in their respective fields pose challenges for this diverse audience. By staying updated on the latest AI trends and advancements, individuals can make informed decisions and leverage AI technologies effectively.\n",
      "\n",
      "## Conclusion\n",
      "As AI continues to rapidly evolve, it is essential for individuals across industries to stay informed about the latest trends, key players, and significant developments in the AI landscape. By exploring ethical considerations, practical applications, and regulatory frameworks associated with AI, we can fully harness the transformative power of this technology. Let's embrace the potential of AI and work towards creating a smarter, more sustainable future.\n",
      "\n",
      "*SEO Keywords: Artificial Intelligence, AI trends, Machine learning advancements, Key players in AI, Noteworthy AI news, AI applications, AI ethics*\n",
      "\n",
      "*Resources: Forbes article on latest AI trends, TechCrunch report on key players in AI industry, Harvard Business Review publication on AI ethics, World Economic Forum analysis on AI applications in different sectors*\u001b[0m\n",
      "\n",
      "\u001b[1m> Finished chain.\u001b[0m\n",
      "\u001b[1m\u001b[92m [DEBUG]: == [Editor] Task output: # The Rise of Artificial Intelligence: Trends, Players, and News\n",
      "\n",
      "## Introduction\n",
      "Artificial Intelligence (AI) has significantly impacted various industries, transforming the way we interact with technology and the world around us. From personalized recommendations on streaming platforms to advanced medical diagnostics, AI has revolutionized our daily lives in unprecedented ways. Exploring the latest trends and key players in the AI field is crucial to comprehending the importance of this technology and its implications on society.\n",
      "\n",
      "## Latest Trends, Key Players, and Noteworthy News on Artificial Intelligence\n",
      "In the realm of AI, advancements in machine learning and deep learning have been pivotal, allowing computers to learn from data and make decisions autonomously. This progress has led to groundbreaking innovations across sectors such as healthcare and finance. Additionally, there has been a growing focus on AI ethics and transparency, prompting organizations to prioritize responsible AI development.\n",
      "\n",
      "Prominent players like Google AI, IBM Watson, and Amazon AI have played a significant role in driving innovation and expanding the capabilities of AI. Their contributions have not only shaped the industry but have also established benchmarks for ethical AI practices. Recent breakthroughs in AI research, coupled with its applications in addressing global challenges like climate change, underscore the vast potential of AI to drive positive change. The emergence of AI regulations and policies worldwide highlights the importance of a unified approach to AI governance.\n",
      "\n",
      "## Target Audience Analysis\n",
      "For professionals in business, technology enthusiasts, students, and researchers, AI represents a realm of unlimited opportunities and complexities. Grasping intricate AI concepts, navigating the ever-evolving AI landscape, and implementing AI solutions in their respective fields pose challenges for this diverse audience. By staying updated on the latest AI trends and advancements, individuals can make informed decisions and leverage AI technologies effectively.\n",
      "\n",
      "## Conclusion\n",
      "As AI continues to rapidly evolve, it is essential for individuals across industries to stay informed about the latest trends, key players, and significant developments in the AI landscape. By exploring ethical considerations, practical applications, and regulatory frameworks associated with AI, we can fully harness the transformative power of this technology. Let's embrace the potential of AI and work towards creating a smarter, more sustainable future.\n",
      "\n",
      "*SEO Keywords: Artificial Intelligence, AI trends, Machine learning advancements, Key players in AI, Noteworthy AI news, AI applications, AI ethics*\n",
      "\n",
      "*Resources: Forbes article on latest AI trends, TechCrunch report on key players in AI industry, Harvard Business Review publication on AI ethics, World Economic Forum analysis on AI applications in different sectors*\n",
      "\n",
      "\u001b[00m\n"
     ]
    }
   ],
   "source": [
    "result = crew.kickoff(inputs={\"topic\": \"Artificial Intelligence\"})"
   ]
  },
  {
   "cell_type": "markdown",
   "metadata": {},
   "source": [
    "- Display the results of your execution as markdown in the notebook."
   ]
  },
  {
   "cell_type": "code",
   "execution_count": 13,
   "metadata": {
    "height": 48
   },
   "outputs": [
    {
     "data": {
      "text/markdown": [
       "# The Rise of Artificial Intelligence: Trends, Players, and News\n",
       "\n",
       "## Introduction\n",
       "Artificial Intelligence (AI) has significantly impacted various industries, transforming the way we interact with technology and the world around us. From personalized recommendations on streaming platforms to advanced medical diagnostics, AI has revolutionized our daily lives in unprecedented ways. Exploring the latest trends and key players in the AI field is crucial to comprehending the importance of this technology and its implications on society.\n",
       "\n",
       "## Latest Trends, Key Players, and Noteworthy News on Artificial Intelligence\n",
       "In the realm of AI, advancements in machine learning and deep learning have been pivotal, allowing computers to learn from data and make decisions autonomously. This progress has led to groundbreaking innovations across sectors such as healthcare and finance. Additionally, there has been a growing focus on AI ethics and transparency, prompting organizations to prioritize responsible AI development.\n",
       "\n",
       "Prominent players like Google AI, IBM Watson, and Amazon AI have played a significant role in driving innovation and expanding the capabilities of AI. Their contributions have not only shaped the industry but have also established benchmarks for ethical AI practices. Recent breakthroughs in AI research, coupled with its applications in addressing global challenges like climate change, underscore the vast potential of AI to drive positive change. The emergence of AI regulations and policies worldwide highlights the importance of a unified approach to AI governance.\n",
       "\n",
       "## Target Audience Analysis\n",
       "For professionals in business, technology enthusiasts, students, and researchers, AI represents a realm of unlimited opportunities and complexities. Grasping intricate AI concepts, navigating the ever-evolving AI landscape, and implementing AI solutions in their respective fields pose challenges for this diverse audience. By staying updated on the latest AI trends and advancements, individuals can make informed decisions and leverage AI technologies effectively.\n",
       "\n",
       "## Conclusion\n",
       "As AI continues to rapidly evolve, it is essential for individuals across industries to stay informed about the latest trends, key players, and significant developments in the AI landscape. By exploring ethical considerations, practical applications, and regulatory frameworks associated with AI, we can fully harness the transformative power of this technology. Let's embrace the potential of AI and work towards creating a smarter, more sustainable future.\n",
       "\n",
       "*SEO Keywords: Artificial Intelligence, AI trends, Machine learning advancements, Key players in AI, Noteworthy AI news, AI applications, AI ethics*\n",
       "\n",
       "*Resources: Forbes article on latest AI trends, TechCrunch report on key players in AI industry, Harvard Business Review publication on AI ethics, World Economic Forum analysis on AI applications in different sectors*"
      ],
      "text/plain": [
       "<IPython.core.display.Markdown object>"
      ]
     },
     "execution_count": 13,
     "metadata": {},
     "output_type": "execute_result"
    }
   ],
   "source": [
    "from IPython.display import Markdown\n",
    "Markdown(result)"
   ]
  },
  {
   "cell_type": "markdown",
   "metadata": {},
   "source": [
    "## Try it Yourself\n",
    "\n",
    "- Pass in a topic of your choice and see what the agents come up with!"
   ]
  },
  {
   "cell_type": "code",
   "execution_count": null,
   "metadata": {
    "height": 48
   },
   "outputs": [],
   "source": [
    "topic = \"YOUR TOPIC HERE\"\n",
    "result = crew.kickoff(inputs={\"topic\": topic})"
   ]
  },
  {
   "cell_type": "code",
   "execution_count": null,
   "metadata": {
    "height": 31
   },
   "outputs": [],
   "source": [
    "Markdown(result)"
   ]
  },
  {
   "cell_type": "markdown",
   "metadata": {},
   "source": [
    "<a name='1'></a>\n",
    " ## Other Popular Models as LLM for your Agents"
   ]
  },
  {
   "cell_type": "markdown",
   "metadata": {},
   "source": [
    "#### Hugging Face (HuggingFaceHub endpoint)\n",
    "\n",
    "```Python\n",
    "from langchain_community.llms import HuggingFaceHub\n",
    "\n",
    "llm = HuggingFaceHub(\n",
    "    repo_id=\"HuggingFaceH4/zephyr-7b-beta\",\n",
    "    huggingfacehub_api_token=\"<HF_TOKEN_HERE>\",\n",
    "    task=\"text-generation\",\n",
    ")\n",
    "\n",
    "### you will pass \"llm\" to your agent function\n",
    "```"
   ]
  },
  {
   "cell_type": "markdown",
   "metadata": {},
   "source": [
    "#### Mistral API\n",
    "\n",
    "```Python\n",
    "OPENAI_API_KEY=your-mistral-api-key\n",
    "OPENAI_API_BASE=https://api.mistral.ai/v1\n",
    "OPENAI_MODEL_NAME=\"mistral-small\"\n",
    "```"
   ]
  },
  {
   "cell_type": "markdown",
   "metadata": {},
   "source": [
    "#### Cohere\n",
    "\n",
    "```Python\n",
    "from langchain_community.chat_models import ChatCohere\n",
    "# Initialize language model\n",
    "os.environ[\"COHERE_API_KEY\"] = \"your-cohere-api-key\"\n",
    "llm = ChatCohere()\n",
    "\n",
    "### you will pass \"llm\" to your agent function\n",
    "```"
   ]
  },
  {
   "cell_type": "markdown",
   "metadata": {},
   "source": [
    "### For using Llama locally with Ollama and more, checkout the crewAI documentation on [Connecting to any LLM](https://docs.crewai.com/how-to/LLM-Connections/)."
   ]
  },
  {
   "cell_type": "code",
   "execution_count": null,
   "metadata": {
    "height": 31
   },
   "outputs": [],
   "source": []
  },
  {
   "cell_type": "code",
   "execution_count": null,
   "metadata": {
    "height": 31
   },
   "outputs": [],
   "source": []
  },
  {
   "cell_type": "code",
   "execution_count": null,
   "metadata": {
    "height": 31
   },
   "outputs": [],
   "source": []
  }
 ],
 "metadata": {
  "colab": {
   "gpuType": "T4",
   "provenance": []
  },
  "kernelspec": {
   "display_name": "Python 3 (ipykernel)",
   "language": "python",
   "name": "python3"
  },
  "language_info": {
   "codemirror_mode": {
    "name": "ipython",
    "version": 3
   },
   "file_extension": ".py",
   "mimetype": "text/x-python",
   "name": "python",
   "nbconvert_exporter": "python",
   "pygments_lexer": "ipython3",
   "version": "3.11.9"
  }
 },
 "nbformat": 4,
 "nbformat_minor": 4
}
